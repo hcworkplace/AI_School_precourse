{
  "nbformat": 4,
  "nbformat_minor": 0,
  "metadata": {
    "colab": {
      "name": "4주차 과제.ipynb의 사본",
      "provenance": [],
      "collapsed_sections": [],
      "include_colab_link": true
    },
    "kernelspec": {
      "name": "python3",
      "display_name": "Python 3"
    }
  },
  "cells": [
    {
      "cell_type": "markdown",
      "metadata": {
        "id": "view-in-github",
        "colab_type": "text"
      },
      "source": [
        "<a href=\"https://colab.research.google.com/github/hcworkplace/test/blob/master/4%EC%A3%BC%EC%B0%A8_%EA%B3%BC%EC%A0%9C.ipynb\" target=\"_parent\"><img src=\"https://colab.research.google.com/assets/colab-badge.svg\" alt=\"Open In Colab\"/></a>"
      ]
    },
    {
      "cell_type": "markdown",
      "metadata": {
        "id": "wxkL6PjwsI6L",
        "colab_type": "text"
      },
      "source": [
        "# 4주차 과제\n",
        "- 용어 정리\n",
        "- 딥러닝 강의 클론 코딩\n",
        "- 딥러닝 순전파 & 역전파 계산"
      ]
    },
    {
      "cell_type": "markdown",
      "metadata": {
        "id": "ixEtDe6_uGgI",
        "colab_type": "text"
      },
      "source": [
        "## 1. 용어 정리\n",
        "\n",
        "다음 제시된 단어의 정의(설명)를 정리하여 작성 하세요.\n",
        "\n",
        "* 2문장 이상 작성 해 주세요. \n",
        "* 주제(단어)와 크게 벗어나지만 않는다면 정답처리 됩니다.\n",
        "* 강의 뿐 아니라 기타 레퍼런스를 참고하여 작성하셔도 됩니다. (기타 레퍼런스를 참고하신 경우, 해당 레퍼런스를 정리하여 하단에 작성해 주세요.)\n"
      ]
    },
    {
      "cell_type": "markdown",
      "metadata": {
        "id": "0lfwat8eurKZ",
        "colab_type": "text"
      },
      "source": [
        "__(예시)__\n",
        "### 심층 신경망\n",
        ": 입력층과 출력층 사이에 여러 개의 은닉층들로 이뤄진 인공신경망이다. 심층 신경망은 일반적으로 인공신경망과 마찬가지로 복잡한 비선형 관계들을 모델링 할 수 있다. 신층신경망의 목적은 분류 및 수치예측을 하기 위함이고 이미지 트레이닝이나 문자인식과 같은 분야에서 매우 유용하게 쓰이고 있다."
      ]
    },
    {
      "cell_type": "markdown",
      "metadata": {
        "id": "Y8YJNKG_v65A",
        "colab_type": "text"
      },
      "source": [
        "### MCP 뉴런\n",
        ": 뉴런을 간단한 이진출력을 갖는 논리게이트로 설명한 뇌 세포의 개념입니다. MCP 세포는 수상돌기에서 복수의 화학적 신호를 받아 세포체를 통해 신호를 통합해 전기 신호로 변경한 후에 전기 신호가 임계치까지 누적된다면 축색돌기를 통해 다시 화학 신호로 변경해 내보내는 간단한 구조를 갖고있습니다.\n",
        "\n",
        "https://darkpgmr.tistory.com/145\n",
        "\n",
        "### 퍼셉트론\n",
        ": MCP 뉴런을 기반으로 하는 학습개념이며 자동으로 최적의 가중치를 학습하는 알고리즘입니다. 퍼셉트론은 입력과 임계치를 포합한 활성함수, 출력으로 구성되어있으며 입력값이 활성함수로 입력되게 됩니다. 이 때 임계갑스이 누적이 임계치보다 크면 1을 반환하고 그렇지 않으면 0을 반환하는 바이너리 결과를 출력값으로 갖는다. \n",
        "\n",
        "https://yamerong.tistory.com/43\n",
        "\n",
        "### 역전파\n",
        ": 다층 신경망에서 은닉 노드의 오차값 확인을 위해 때문에 사용하는 학습방법입니다. 출력층의 오차를 은닉층으로 역전파 시켜 신경망을 학습시키는 방법이며 연산방법은 순방향과 같지만 계산순서는 출력층 -> 은닉층 -> 입력층 입니다.\n",
        "\n",
        "https://ynebula.tistory.com/24\n",
        "\n",
        "### 강화학습\n",
        ": 강화학습은 기계 학습이 다루는 문제들 중 하나로 어떤 환경 안에서 정의된 에이전트가 현재의 상태를 인식합니다. 그 상태를 바탕으로 선택 가능한 행동들 중 보상을 최대화 하는 행동 혹은 행동순서를 선택하는 방법입니다.\n",
        "\n",
        "http://www.agilesoda.com/kr/ai/aiTrends\n",
        "\n",
        "### 과적합\n",
        ": 머신러닝에서 학습데이터를 과하게 잘 학습하는 것을 말합니다. 일반적으로 학습데이터는 실제 데이터의 부분집합인 경우가 대부분이고, 학습데이터만 가지고 실제 데이터의 오차가 증가하는 지점을 예측하기 어려운 문제 등으로 인해 거의 해결 불가능한 수준의 문제로 분류된다. 최소화하기 위한 알고리즘으로는 SVM알고리즘이 있다.\n",
        "\n",
        "https://untitledtblog.tistory.com/68\n",
        "\n",
        "### 차원의 저주\n",
        ": 데이터의 차원이 증가할수록 해당 공간의 크기가 기하급수적으로 증가하기 때문에 동일한 개수의 데ㅣ텅의 밀도는 차원이 증가할수록 급속도로 희박해집니다. 따라서 차원이 증ㅇ가할수록 데이터의 분포 분석 또는 모델추정에 필요한 샘플 데이터의 개수가 기하급수적으로 증가하게 되는 현상을 말합니다.\n",
        "\n",
        "https://darkpgmr.tistory.com/145"
      ]
    },
    {
      "cell_type": "markdown",
      "metadata": {
        "id": "d-zfFXLCy6jD",
        "colab_type": "text"
      },
      "source": [
        "## 2. 딥러닝 강의 클론 코딩\n",
        "\n",
        "####__퍼셉트론 구조 구현하기__ \n",
        "딥러닝 강의(__딥러닝 원리[1] 3:15 ~ 5:15 부분__)를 보고 코드를 따라 치며 출력 결과를 만드세요.\n",
        " \n",
        "\n",
        "* 하나의 코드셀에 해당 코드를 한번에 다 적어서 실행해주세요 (__그렇게 하지 않을 경우, 아래 이미지와 같은 출력값이 나오지 않을 수 있습니다__)\n",
        "\n",
        "*__주의!__ 실제로 코딩해서 출력해보면 강의에 나온 출력 결과와 다르게 나옵니다!!\n"
      ]
    },
    {
      "cell_type": "code",
      "metadata": {
        "id": "dnw8fiKMPevi",
        "colab_type": "code",
        "colab": {
          "base_uri": "https://localhost:8080/",
          "height": 215
        },
        "outputId": "3fac531b-5e46-4aff-f4b1-22e0d598864f"
      },
      "source": [
        "import tensorflow as tf\n",
        "tf.compat.v1.set_random_seed(2020)\n",
        "x = 1\n",
        "y = 0\n",
        "w = tf.random.normal([1],0,1)\n",
        "\n",
        "import math\n",
        "def sigmoid(x):\n",
        "  return 1/(1 + math.exp(-x))\n",
        "\n",
        "output = sigmoid( x * w )\n",
        "print(output)\n",
        "\n",
        "for i in range(1000):\n",
        "  output = sigmoid(x*w)\n",
        "  error = y - output\n",
        "  w = w + x*0.1 * error\n",
        "\n",
        "  if i % 100 == 99:\n",
        "    print(\"학습 횟수 : \",i, \"Error : \",error, \"예측 결과 : \",output)"
      ],
      "execution_count": 3,
      "outputs": [
        {
          "output_type": "stream",
          "text": [
            "0.47477188589261\n",
            "학습 횟수 :  99 Error :  -0.10010598284299604 예측 결과 :  0.10010598284299604\n",
            "학습 횟수 :  199 Error :  -0.05178399422833116 예측 결과 :  0.05178399422833116\n",
            "학습 횟수 :  299 Error :  -0.034590451977903586 예측 결과 :  0.034590451977903586\n",
            "학습 횟수 :  399 Error :  -0.02588962752851373 예측 결과 :  0.02588962752851373\n",
            "학습 횟수 :  499 Error :  -0.020658699939863617 예측 결과 :  0.020658699939863617\n",
            "학습 횟수 :  599 Error :  -0.017174253993457355 예측 결과 :  0.017174253993457355\n",
            "학습 횟수 :  699 Error :  -0.014689506449480992 예측 결과 :  0.014689506449480992\n",
            "학습 횟수 :  799 Error :  -0.012829497265431342 예측 결과 :  0.012829497265431342\n",
            "학습 횟수 :  899 Error :  -0.011385568271837804 예측 결과 :  0.011385568271837804\n",
            "학습 횟수 :  999 Error :  -0.010232493309882492 예측 결과 :  0.010232493309882492\n"
          ],
          "name": "stdout"
        }
      ]
    },
    {
      "cell_type": "markdown",
      "metadata": {
        "id": "wcc5mzI9oZ7r",
        "colab_type": "text"
      },
      "source": [
        "![대체 텍스트](https://www.notion.so/image/https%3A%2F%2Fs3-us-west-2.amazonaws.com%2Fsecure.notion-static.com%2F0cceeed0-0235-4b0f-af88-0b8c377d5b4b%2F_2020-06-09__9.35.23.png?table=block&id=88fd8912-9356-49a4-9fda-a1a63fe96ea9&width=2870&cache=v2)"
      ]
    },
    {
      "cell_type": "markdown",
      "metadata": {
        "id": "kr0HVRk8fOom",
        "colab_type": "text"
      },
      "source": [
        "## 3. 딥러닝 순전파 & 역전파 계산\n",
        "\n",
        "딥러닝 강의(__딥러닝 원리[2] 0:55 ~ 4:32 부분__)에 나오는 순전파 & 역전파 계산에 대한 문제 입니다.\n",
        "\n",
        "해당 영상과 다음 이미지를 참고하여 다음 2가지 물음에 답하세요.\n",
        "\n",
        "\n",
        "(1) 학습률이 0.2 일 경우 출력층의 노드값\n",
        "\n",
        "(2) 학습률이 0.1과 0.2 중 기대출력값이 지도데이터 \"3\"과 더 가까운 학습률은?"
      ]
    },
    {
      "cell_type": "markdown",
      "metadata": {
        "id": "CpwPFWhOUzww",
        "colab_type": "text"
      },
      "source": [
        "![대체 텍스트](https://www.notion.so/image/https%3A%2F%2Fs3-us-west-2.amazonaws.com%2Fsecure.notion-static.com%2Ff54dfd45-92ec-44ae-9616-6949d2484a45%2F_2020-06-10__5.22.03.png?table=block&id=ee05da89-3ceb-4ad9-a2d3-c9f68d24d1d9&width=3580&cache=v2)"
      ]
    },
    {
      "cell_type": "markdown",
      "metadata": {
        "id": "B2OVY7w5U3CI",
        "colab_type": "text"
      },
      "source": [
        "## (1) 학습률이 0.2 일 경우 출력층의 노드값 :  1.6\n",
        "## (2) 학습률이 0.1과 0.2 중 기대출력값이 지도데이터 \"3\"과 더 가까운 학습률은? : 0.1"
      ]
    },
    {
      "cell_type": "code",
      "metadata": {
        "id": "BgavfvqiWxBU",
        "colab_type": "code",
        "colab": {}
      },
      "source": [
        ""
      ],
      "execution_count": null,
      "outputs": []
    },
    {
      "cell_type": "code",
      "metadata": {
        "id": "9qdx-w-fWjgv",
        "colab_type": "code",
        "colab": {}
      },
      "source": [
        ""
      ],
      "execution_count": null,
      "outputs": []
    }
  ]
}