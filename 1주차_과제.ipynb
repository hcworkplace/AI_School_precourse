{
  "nbformat": 4,
  "nbformat_minor": 0,
  "metadata": {
    "colab": {
      "name": "1주차 과제.ipynb",
      "provenance": [],
      "authorship_tag": "ABX9TyPuP4ob8yy7lWwpkI1xGKaN"
    },
    "kernelspec": {
      "name": "python3",
      "display_name": "Python 3"
    }
  },
  "cells": [
    {
      "cell_type": "markdown",
      "metadata": {
        "id": "3cxdNRIzmXJb",
        "colab_type": "text"
      },
      "source": [
        "## **언어 분야의 인공지능**"
      ]
    },
    {
      "cell_type": "markdown",
      "metadata": {
        "id": "jw6fcwedmeVz",
        "colab_type": "text"
      },
      "source": [
        "- 가장 대표적인 활용예시로는 번역이 있습니다"
      ]
    },
    {
      "cell_type": "markdown",
      "metadata": {
        "id": "xI0rb7dLmxdj",
        "colab_type": "text"
      },
      "source": [
        "- 이를 가장 흔하게 볼 수 있는 분야가 자막 분야입니다. 가장 최근의 예로는 **' AI 기반 포스트 프로덕션 플랫폼 개발 '** 서비스가 있습니다."
      ]
    },
    {
      "cell_type": "markdown",
      "metadata": {
        "id": "1_0UJBLXnIDM",
        "colab_type": "text"
      },
      "source": [
        "- 영화, 드라마 등 콘텐츠에 한글 자막을 지우고 저작권 음원을 제거하는 포스트 프로덕션 작업을 ai를 통해 수행하고, 콘텐츠 수출에 방해가 되는 요소들을 줄이는 서비스 입니다."
      ]
    },
    {
      "cell_type": "markdown",
      "metadata": {
        "id": "A4PBM2genTvy",
        "colab_type": "text"
      },
      "source": [
        "- 국내 콘텐츠의 세계 경쟁력 향상과 디지털 콘텐츠의 글로벌 현지화, 플랫폼 적용 의 제약을 없애 얻을 수 있는 효과는 기대이상일 것이며, 이 서비스는 단순히 미디어 수출의 순익을 떠나 국내외의 미디어산업 고도화에 지속적으로 기여하게 될 것입니다."
      ]
    },
    {
      "cell_type": "markdown",
      "metadata": {
        "id": "6smIVpVRi1oU",
        "colab_type": "text"
      },
      "source": [
        "## **음성 분야의 인공지능**"
      ]
    },
    {
      "cell_type": "markdown",
      "metadata": {
        "id": "Y6M3M6lMjBsj",
        "colab_type": "text"
      },
      "source": [
        "- 음성 회의록을 텍스트로 정리해주는 **' maum 회의록 '**"
      ]
    },
    {
      "cell_type": "markdown",
      "metadata": {
        "id": "jbDHuZ7fj2iG",
        "colab_type": "text"
      },
      "source": [
        "- 클라우드 기반으로 운영되는 마음회의록 서비스는 인공지능 플랫폼 마음AI (maum.ai)에 접속해 간단한 회의정보 입력과 음성 파일 업로드만으로 화자가 분리된 텍스트화 된 회의록 파일을 받아볼 수 있도록 합니다. "
      ]
    },
    {
      "cell_type": "markdown",
      "metadata": {
        "id": "KN1KGHRpkIMj",
        "colab_type": "text"
      },
      "source": [
        "- 스마트 오피스 구축에 획기적인 역할을 할 수 있습니다. 오피스 뿐만아니라, 학교와 같은 교육분야에서도 화자를 분리한 음성인식은 유용하게 활용될 것입니다."
      ]
    },
    {
      "cell_type": "markdown",
      "metadata": {
        "id": "gYmuihzCnyFL",
        "colab_type": "text"
      },
      "source": [
        "## **이미지 분야의 인공지능**"
      ]
    },
    {
      "cell_type": "markdown",
      "metadata": {
        "id": "Ax4HJp_-n03R",
        "colab_type": "text"
      },
      "source": [
        "- 최근 카이스트연구진은 단순한 흉부 엑스선 촬영으로 신종 코로나 바이러스 감염증을 진단하는 ai 알고리즘을 개발했습니다."
      ]
    },
    {
      "cell_type": "markdown",
      "metadata": {
        "id": "sNFMLxagoTDs",
        "colab_type": "text"
      },
      "source": [
        "- 이는 80퍼센트 이상의 정확도를 보입니다. 제공된 데이터의 양을 생각해보면 상당히 높은 수준의 정확도를 보임을 알 수 있습니다."
      ]
    },
    {
      "cell_type": "markdown",
      "metadata": {
        "id": "BPvbCK0Rof5p",
        "colab_type": "text"
      },
      "source": [
        "- 이 서비스가 지금은 코로나 바이러스를 진단하기위해 개발되었지만, 다른 질병, 특히 데이터가 많이 존재하는 질병에 적용된다면 환자가 질병을 진단받는데 걸리는 시간이 놀라울정도로 줄어들 것입니다."
      ]
    },
    {
      "cell_type": "markdown",
      "metadata": {
        "id": "TH_wExsPo0AK",
        "colab_type": "text"
      },
      "source": [
        "- 또한, 세밀한 수술을 집도하는 로봇의 ai와 접목된다면, 의료분야에서의 획기적인 변화와 발전을 기대할 수 있을 것입니다."
      ]
    },
    {
      "cell_type": "markdown",
      "metadata": {
        "id": "UaL0As2JpErS",
        "colab_type": "text"
      },
      "source": [
        "## **자율주행 분야의 인공지능**"
      ]
    },
    {
      "cell_type": "markdown",
      "metadata": {
        "id": "FnLD8SH3pJCR",
        "colab_type": "text"
      },
      "source": [
        "- 우정사업본부는 자율주행 이동우체국과 우편물 배달로봇, 집배원 추종로봇을 도입할 것을 예고했습니다"
      ]
    },
    {
      "cell_type": "markdown",
      "metadata": {
        "id": "D9gti_5_XGmn",
        "colab_type": "text"
      },
      "source": [
        "- 이는 우편서비스의 국민 편의성 향상과 집배원 안전사고 감소를 위해 추진하게 될 서비스입니다."
      ]
    },
    {
      "cell_type": "markdown",
      "metadata": {
        "id": "aKZC7MaRXIX2",
        "colab_type": "text"
      },
      "source": [
        "- 먼저, 자율주행 이동우체국은 무인 우편접수, 배달 기술을 사용해 스마트시티와 자율주행 특구에서 운행된다고 합니다. 단순 우편이 아닌 택배까지 수용할 수 있는 이동우체국으로 앞으로의 택배산업이 크게 변화할 것으로 예상됩니다. "
      ]
    }
  ]
}